{
 "cells": [
  {
   "cell_type": "code",
   "execution_count": 2,
   "metadata": {},
   "outputs": [],
   "source": [
    "import os\n",
    "import numpy as np"
   ]
  },
  {
   "cell_type": "code",
   "execution_count": null,
   "metadata": {},
   "outputs": [],
   "source": [
    "def block_bootstrap(data, block_size, n_samples = 1000):\n",
    "    n = len(data)\n",
    "    blocks = [data[i:i+block_size] for i in range(0, n - block_size + 1)]\n",
    "    n_blocks = int(np.ceil(n/block_size))\n",
    "    bootstrap_samples = []\n",
    "    for _ in range(n_samples):\n",
    "        sample = np.concatenate([blocks[np.random.randint(0, len(blocks))] for _ in range(n_blocks)])\n",
    "        bootstrap_samples.append(sample[:n]) \n",
    "    return np.array(bootstrap_samples)"
   ]
  },
  {
   "cell_type": "code",
   "execution_count": 3,
   "metadata": {},
   "outputs": [],
   "source": [
    "path_in = '../../data'\n",
    "path_out = '../../outputs/bias_test'"
   ]
  },
  {
   "cell_type": "code",
   "execution_count": null,
   "metadata": {},
   "outputs": [
    {
     "data": {
      "text/plain": [
       "(24, 80, 80)"
      ]
     },
     "execution_count": 5,
     "metadata": {},
     "output_type": "execute_result"
    }
   ],
   "source": [
    "season = 'djf'  # djf jja\n",
    "\n",
    "models = ['cfsv2', 'seas5']\n",
    "\n",
    "seas5_arr = np.nanmean(np.load(os.path.join(path_in, f'seas5_{season}.npz'))['WS10M'], axis=1)\n",
    "cfsv2_arr = np.nanmean(np.load(os.path.join(path_in, f'cfsv2_{season}.npz'))['WS10M'], axis=1)\n",
    "merra2_arr = np.load(os.path.join(path_in, f'merra2_{season}.npz'))['WS10M']\n",
    "\n",
    "lon_arr = np.load(os.path.join(path_in, f'cfsv2_{season}.npz'))['longitude']\n",
    "lat_arr = np.load(os.path.join(path_in, f'cfsv2_{season}.npz'))['latitude']\n",
    "\n",
    "data_cfsv2 = merra2_arr - cfsv2_arr\n",
    "data_seas5 = merra2_arr - seas5_arr"
   ]
  },
  {
   "cell_type": "code",
   "execution_count": null,
   "metadata": {},
   "outputs": [],
   "source": [
    "cfsv2_boot = np.apply_along_axis(func1d = block_bootstrap, axis = 0, arr = data_cfsv2, block_size=3)\n",
    "seas5_boot = np.apply_along_axis(func1d = block_bootstrap, axis = 0, arr = data_seas5, block_size=3)\n",
    "\n",
    "# Calculate bias for each resample\n",
    "cfsv2_boot_bias = np.nanmean(cfsv2_boot, axis=1)\n",
    "seas5_boot_bias = np.nanmean(seas5_boot, axis=1)\n",
    "\n",
    "# Significance\n",
    "alpha = 5\n",
    "# Two tail test\n",
    "ci_lower_cfsv2, ci_upper_cfsv2 = np.percentile(cfsv2_boot_bias, \n",
    "                                               [alpha/2, (100-alpha)/2], axis=0)\n",
    "ci_lower_seas5, ci_upper_seas5 = np.percentile(seas5_boot_bias, \n",
    "                                                   [alpha/2, (100-alpha)/2], axis=0)\n",
    "\n",
    "# False for statistically significant biases and True for not statistically significant biases \n",
    "results_cfsv2 = np.zeros(ci_upper_cfsv2.shape)\n",
    "results_cfsv2[(ci_upper_cfsv2 >= 0) & (ci_lower_cfsv2 <= 0)] = 1\n",
    "results_cfsv2 = np.array(results_cfsv2, dtype=bool)\n",
    "\n",
    "results_seas5 = np.zeros(ci_lower_seas5.shape)\n",
    "results_seas5[(ci_upper_seas5 >= 0) & (ci_lower_seas5 <= 0)] = 1\n",
    "results_seas5 = np.array(results_seas5, dtype=bool)"
   ]
  },
  {
   "cell_type": "code",
   "execution_count": null,
   "metadata": {},
   "outputs": [],
   "source": [
    "np.savez(os.path.join(path_out, f\"bootstrap_bias_cfsv2_{season}.npz\"), test_result = results_cfsv2\n",
    "        lon = lon_arr, lat = lat_arr)\n",
    "np.savez(os.path.join(path_out, f\"bootstrap_bias_seas5_{season}.npz\"), test_result = results_seas5,\n",
    "         lon = lon_arr, lat = lat_arr)"
   ]
  }
 ],
 "metadata": {
  "kernelspec": {
   "display_name": "base",
   "language": "python",
   "name": "python3"
  },
  "language_info": {
   "codemirror_mode": {
    "name": "ipython",
    "version": 3
   },
   "file_extension": ".py",
   "mimetype": "text/x-python",
   "name": "python",
   "nbconvert_exporter": "python",
   "pygments_lexer": "ipython3",
   "version": "3.10.12"
  }
 },
 "nbformat": 4,
 "nbformat_minor": 2
}
