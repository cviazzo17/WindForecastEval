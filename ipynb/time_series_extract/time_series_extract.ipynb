{
 "cells": [
  {
   "cell_type": "markdown",
   "metadata": {},
   "source": [
    "# Extraction of Time Series in Three Regions with High Density of Wind Farms"
   ]
  },
  {
   "cell_type": "code",
   "execution_count": 2,
   "metadata": {},
   "outputs": [],
   "source": [
    "import numpy as np\n",
    "import os"
   ]
  },
  {
   "cell_type": "code",
   "execution_count": 3,
   "metadata": {},
   "outputs": [],
   "source": [
    "path_in = '../../data'\n",
    "path_out = '../../outputs/timeseries'\n",
    "\n",
    "season = 'djf'  # 'djf' or 'jja'\n",
    "regions = ['r1', 'r2', 'r3']\n",
    "datasets = ['merra2', 'cfsv2', 'seas5']\n",
    "\n",
    "seas5_arr = np.load(os.path.join(path_in, f'seas5_{season}.npz'))['W10M']\n",
    "cfsv2_arr = np.load(os.path.join(path_in, f'cfsv2_{season}.npz'))['W10M']\n",
    "merra2_arr = np.load(os.path.join(path_in, f'merra2_{season}.npz'))['W10M']\n",
    "lon_arr = np.load(os.path.join(path_in, f'merra2_{season}.npz'))['longitude']\n",
    "lat_arr = np.load(os.path.join(path_in, f'merra2_{season}.npz'))['latitude']\n",
    "\n",
    "lat_indices = {\n",
    "    \"r3\": np.array([65, 65, 66]),\n",
    "    \"r2\": np.array([62, 63]), \n",
    "    \"r1\": np.array([58, 58, 59]),\n",
    "}\n",
    "\n",
    "lon_indices = {\n",
    "    \"r3\": np.array([31, 32, 31]),\n",
    "    \"r2\": np.array([34, 34]),\n",
    "    \"r1\": np.array([37, 38, 37])\n",
    "}\n",
    "\n",
    "def extract_region_data(seas5, cfsv2, merra2, lon, lat, lon_indices, lat_indices):\n",
    "    \"\"\"\n",
    "    Extracts data from SEAS5, CFSV2, and MERRA2 for the specified regions.\n",
    "\n",
    "    Parameters:\n",
    "        seas5: numpy.ndarray of shape (year, ensemble_member, lat, lon)\n",
    "        cfsv2: numpy.ndarray of shape (year, ensemble_member, lat, lon)\n",
    "        merra2: numpy.ndarray of shape (year, lat, lon)\n",
    "        region_indices: dict containing latitude and longitude indices for each region\n",
    "\n",
    "    Returns:\n",
    "        A dictionary with extracted data.\n",
    "    \"\"\"\n",
    "    result = {}\n",
    "\n",
    "    result['seas5'] = np.moveaxis(seas5[:, :, lat_indices, lon_indices], -1, 1)\n",
    "    result['cfsv2'] = np.moveaxis(cfsv2[:, :, lat_indices, lon_indices], -1, 1)\n",
    "    result['merra2'] = merra2[:, lat_indices, lon_indices]\n",
    "    result['lon'] = lon[lon_indices]\n",
    "    result['lat'] = lat[lat_indices]\n",
    "\n",
    "    return result\n",
    "\n",
    "for region in regions:\n",
    "    data_region = extract_region_data(\n",
    "        seas5_arr, cfsv2_arr, merra2_arr, \n",
    "        lon_arr, lat_arr, \n",
    "        lon_indices[region], lat_indices[region]\n",
    "        )\n",
    "    \n",
    "    file_name_out = os.path.join(path_out, f'timeseries_{season}_{region}.npz')\n",
    "    np.savez(file_name_out, **data_region)\n",
    "    "
   ]
  }
 ],
 "metadata": {
  "kernelspec": {
   "display_name": "base",
   "language": "python",
   "name": "python3"
  },
  "language_info": {
   "codemirror_mode": {
    "name": "ipython",
    "version": 3
   },
   "file_extension": ".py",
   "mimetype": "text/x-python",
   "name": "python",
   "nbconvert_exporter": "python",
   "pygments_lexer": "ipython3",
   "version": "3.10.12"
  }
 },
 "nbformat": 4,
 "nbformat_minor": 2
}
