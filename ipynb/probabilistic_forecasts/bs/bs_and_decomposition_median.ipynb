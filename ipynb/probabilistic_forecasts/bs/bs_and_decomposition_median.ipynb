{
 "cells": [
  {
   "cell_type": "code",
   "execution_count": 1,
   "metadata": {
    "vscode": {
     "languageId": "r"
    }
   },
   "outputs": [
    {
     "name": "stderr",
     "output_type": "stream",
     "text": [
      "Loading required package: fields\n",
      "\n",
      "Loading required package: spam\n",
      "\n",
      "Spam version 2.11-1 (2025-01-20) is loaded.\n",
      "Type 'help( Spam)' or 'demo( spam)' for a short introduction \n",
      "and overview of this package.\n",
      "Help for individual functions is also obtained by adding the\n",
      "suffix '.spam' to the function name, e.g. 'help( chol.spam)'.\n",
      "\n",
      "\n",
      "Attaching package: ‘spam’\n",
      "\n",
      "\n",
      "The following objects are masked from ‘package:base’:\n",
      "\n",
      "    backsolve, forwardsolve\n",
      "\n",
      "\n",
      "Loading required package: viridisLite\n",
      "\n",
      "\n",
      "Try help(fields) to get started.\n",
      "\n",
      "Loading required package: boot\n",
      "\n",
      "Loading required package: CircStats\n",
      "\n",
      "Loading required package: MASS\n",
      "\n",
      "Loading required package: dtw\n",
      "\n",
      "Loading required package: proxy\n",
      "\n",
      "\n",
      "Attaching package: ‘proxy’\n",
      "\n",
      "\n",
      "The following object is masked from ‘package:spam’:\n",
      "\n",
      "    as.matrix\n",
      "\n",
      "\n",
      "The following objects are masked from ‘package:stats’:\n",
      "\n",
      "    as.dist, dist\n",
      "\n",
      "\n",
      "The following object is masked from ‘package:base’:\n",
      "\n",
      "    as.matrix\n",
      "\n",
      "\n",
      "Loaded dtw v1.23-1. See ?dtw for help, citation(\"dtw\") for use in publication.\n",
      "\n",
      "\n"
     ]
    },
    {
     "data": {
      "text/html": [
       "'/home/carla/Documents/keep_trying/WindForecastEval'"
      ],
      "text/latex": [
       "'/home/carla/Documents/keep\\_trying/WindForecastEval'"
      ],
      "text/markdown": [
       "'/home/carla/Documents/keep_trying/WindForecastEval'"
      ],
      "text/plain": [
       "[1] \"/home/carla/Documents/keep_trying/WindForecastEval\""
      ]
     },
     "metadata": {},
     "output_type": "display_data"
    }
   ],
   "source": [
    "library(verification)\n",
    "library(kableExtra)\n",
    "\n",
    "setwd('../../../')\n",
    "getwd()"
   ]
  },
  {
   "cell_type": "code",
   "execution_count": 2,
   "metadata": {
    "vscode": {
     "languageId": "r"
    }
   },
   "outputs": [],
   "source": [
    "path_in = normalizePath(paste0(getwd(), '/ipynb/probabilistic_forecasts/bs/rds'))\n",
    "\n",
    "names_data <- list.files(path = path_in,\n",
    "                         pattern = '^median.*\\\\.rds$',\n",
    "                         full.names = T)\n",
    "\n",
    "list_data <- lapply(names_data, readRDS)\n",
    "\n",
    "names(list_data) <- list.files(path = path_in,\n",
    "                               pattern = '^median.*\\\\.rds$',\n",
    "                               full.names = F)"
   ]
  },
  {
   "cell_type": "code",
   "execution_count": 3,
   "metadata": {
    "vscode": {
     "languageId": "r"
    }
   },
   "outputs": [],
   "source": [
    "data_process = function(prob, categoria, median){\n",
    "  probabilidad = as.vector(prob[median,,])\n",
    "  categoria = as.vector(categoria)\n",
    "  cat_total = numeric(length(categoria))\n",
    "  cat_total[categoria==median] = 1\n",
    "  result = data.frame(pred = probabilidad, obs =  cat_total)\n",
    "  colnames(result) = c('pred', 'obs')\n",
    "  \n",
    "  \n",
    "  return(result)\n",
    "}\n",
    "\n",
    "\n",
    "bs.result <- function(list_data, median, thresh = seq(0,1,0.25)){\n",
    "  data_median1 = list()\n",
    "  j <- 0\n",
    "  names <- names(list_data)\n",
    "  \n",
    "  # Roc.area result\n",
    "  bs_median1 <- list()\n",
    "  \n",
    "  for (i in list_data){\n",
    "    j <- j + 1\n",
    "    \n",
    "    partial <- data_process(prob = i$prob, categoria = i$obs, median = median)\n",
    "    \n",
    "    data_median1[[names[j]]] <- partial\n",
    "    \n",
    "    bs_median1[[names[j]]] <- brier(obs = partial$obs, \n",
    "                                     pred = partial$pred,\n",
    "                                     bins = T,\n",
    "                                     thresholds = thresh)\n",
    "  }\n",
    "  \n",
    "  result_bs_median1 <- data.frame(bs =  sapply(bs_median1, `[[`, 'bs'),\n",
    "                                   ss =  sapply(bs_median1, `[[`, 'ss'),\n",
    "                                   bs.reliability\t= sapply(bs_median1, `[[`, 'bs.reliability'),\n",
    "                                   bs.resolution = sapply(bs_median1, `[[`, 'bs.resol'),\n",
    "                                   bs.uncert = sapply(bs_median1, `[[`, 'bs.uncert'),\n",
    "                                   check = sapply(bs_median1, `[[`, 'check'),\n",
    "                                   bins = sapply(bs_median1, `[[`, 'bins'))\n",
    "  \n",
    "  return(result_bs_median1)\n",
    "}\n",
    "\n",
    "rsult_bm_bs <- bs.result(list_data = list_data, median = 1)\n",
    "rsult_am_bs <- bs.result(list_data = list_data, median = 2)\n",
    "\n"
   ]
  },
  {
   "cell_type": "code",
   "execution_count": 4,
   "metadata": {
    "vscode": {
     "languageId": "r"
    }
   },
   "outputs": [
    {
     "data": {
      "text/plain": [
       "<table class=\"table table-striped table-hover\" style=\"width: auto !important; margin-left: auto; margin-right: auto;\">\n",
       "<caption>Table of Brier Score Results (Below Median)</caption>\n",
       " <thead>\n",
       "  <tr>\n",
       "   <th style=\"text-align:left;\">   </th>\n",
       "   <th style=\"text-align:right;\"> bs </th>\n",
       "   <th style=\"text-align:right;\"> ss </th>\n",
       "   <th style=\"text-align:right;\"> bs.reliability </th>\n",
       "   <th style=\"text-align:right;\"> bs.resolution </th>\n",
       "   <th style=\"text-align:right;\"> bs.uncert </th>\n",
       "   <th style=\"text-align:right;\"> check </th>\n",
       "   <th style=\"text-align:left;\"> bins </th>\n",
       "  </tr>\n",
       " </thead>\n",
       "<tbody>\n",
       "  <tr>\n",
       "   <td style=\"text-align:left;\"> median_prob_and_reference_cfsv2_djf_r1.rds </td>\n",
       "   <td style=\"text-align:right;\"> 0.2534722 </td>\n",
       "   <td style=\"text-align:right;\"> -0.0146718 </td>\n",
       "   <td style=\"text-align:right;\"> 0.0167796 </td>\n",
       "   <td style=\"text-align:right;\"> 0.0131144 </td>\n",
       "   <td style=\"text-align:right;\"> 0.2498071 </td>\n",
       "   <td style=\"text-align:right;\"> 0.2534722 </td>\n",
       "   <td style=\"text-align:left;\"> TRUE </td>\n",
       "  </tr>\n",
       "  <tr>\n",
       "   <td style=\"text-align:left;\"> median_prob_and_reference_cfsv2_djf_r2.rds </td>\n",
       "   <td style=\"text-align:right;\"> 0.2578125 </td>\n",
       "   <td style=\"text-align:right;\"> -0.0312500 </td>\n",
       "   <td style=\"text-align:right;\"> 0.0161005 </td>\n",
       "   <td style=\"text-align:right;\"> 0.0082880 </td>\n",
       "   <td style=\"text-align:right;\"> 0.2500000 </td>\n",
       "   <td style=\"text-align:right;\"> 0.2578125 </td>\n",
       "   <td style=\"text-align:left;\"> TRUE </td>\n",
       "  </tr>\n",
       "  <tr>\n",
       "   <td style=\"text-align:left;\"> median_prob_and_reference_cfsv2_djf_r3.rds </td>\n",
       "   <td style=\"text-align:right;\"> 0.2413194 </td>\n",
       "   <td style=\"text-align:right;\"> 0.0347222 </td>\n",
       "   <td style=\"text-align:right;\"> 0.0165692 </td>\n",
       "   <td style=\"text-align:right;\"> 0.0252498 </td>\n",
       "   <td style=\"text-align:right;\"> 0.2500000 </td>\n",
       "   <td style=\"text-align:right;\"> 0.2413194 </td>\n",
       "   <td style=\"text-align:left;\"> TRUE </td>\n",
       "  </tr>\n",
       "  <tr>\n",
       "   <td style=\"text-align:left;\"> median_prob_and_reference_seas5_djf_r1.rds </td>\n",
       "   <td style=\"text-align:right;\"> 0.2656250 </td>\n",
       "   <td style=\"text-align:right;\"> -0.0633205 </td>\n",
       "   <td style=\"text-align:right;\"> 0.0214646 </td>\n",
       "   <td style=\"text-align:right;\"> 0.0056467 </td>\n",
       "   <td style=\"text-align:right;\"> 0.2498071 </td>\n",
       "   <td style=\"text-align:right;\"> 0.2656250 </td>\n",
       "   <td style=\"text-align:left;\"> TRUE </td>\n",
       "  </tr>\n",
       "  <tr>\n",
       "   <td style=\"text-align:left;\"> median_prob_and_reference_seas5_djf_r2.rds </td>\n",
       "   <td style=\"text-align:right;\"> 0.2239583 </td>\n",
       "   <td style=\"text-align:right;\"> 0.1041667 </td>\n",
       "   <td style=\"text-align:right;\"> 0.0108631 </td>\n",
       "   <td style=\"text-align:right;\"> 0.0369048 </td>\n",
       "   <td style=\"text-align:right;\"> 0.2500000 </td>\n",
       "   <td style=\"text-align:right;\"> 0.2239583 </td>\n",
       "   <td style=\"text-align:left;\"> TRUE </td>\n",
       "  </tr>\n",
       "  <tr>\n",
       "   <td style=\"text-align:left;\"> median_prob_and_reference_seas5_djf_r3.rds </td>\n",
       "   <td style=\"text-align:right;\"> 0.2239583 </td>\n",
       "   <td style=\"text-align:right;\"> 0.1041667 </td>\n",
       "   <td style=\"text-align:right;\"> 0.0025454 </td>\n",
       "   <td style=\"text-align:right;\"> 0.0285871 </td>\n",
       "   <td style=\"text-align:right;\"> 0.2500000 </td>\n",
       "   <td style=\"text-align:right;\"> 0.2239583 </td>\n",
       "   <td style=\"text-align:left;\"> TRUE </td>\n",
       "  </tr>\n",
       "</tbody>\n",
       "</table>"
      ]
     },
     "metadata": {},
     "output_type": "display_data"
    }
   ],
   "source": [
    "rsult_bm_bs %>%\n",
    "  kable(\"html\", caption =  \"Table of Brier Score Results (Below Median)\") %>%\n",
    "  kable_styling(bootstrap_options = c(\"striped\", \"hover\"), full_width = FALSE) "
   ]
  },
  {
   "cell_type": "code",
   "execution_count": 5,
   "metadata": {
    "vscode": {
     "languageId": "r"
    }
   },
   "outputs": [
    {
     "data": {
      "text/plain": [
       "<table class=\"table table-striped table-hover\" style=\"width: auto !important; margin-left: auto; margin-right: auto;\">\n",
       "<caption>Table of Brier Score Results  (Above Median)</caption>\n",
       " <thead>\n",
       "  <tr>\n",
       "   <th style=\"text-align:left;\">   </th>\n",
       "   <th style=\"text-align:right;\"> bs </th>\n",
       "   <th style=\"text-align:right;\"> ss </th>\n",
       "   <th style=\"text-align:right;\"> bs.reliability </th>\n",
       "   <th style=\"text-align:right;\"> bs.resolution </th>\n",
       "   <th style=\"text-align:right;\"> bs.uncert </th>\n",
       "   <th style=\"text-align:right;\"> check </th>\n",
       "   <th style=\"text-align:left;\"> bins </th>\n",
       "  </tr>\n",
       " </thead>\n",
       "<tbody>\n",
       "  <tr>\n",
       "   <td style=\"text-align:left;\"> median_prob_and_reference_cfsv2_djf_r1.rds </td>\n",
       "   <td style=\"text-align:right;\"> 0.2621528 </td>\n",
       "   <td style=\"text-align:right;\"> -0.0494208 </td>\n",
       "   <td style=\"text-align:right;\"> 0.0159343 </td>\n",
       "   <td style=\"text-align:right;\"> 0.0035886 </td>\n",
       "   <td style=\"text-align:right;\"> 0.2498071 </td>\n",
       "   <td style=\"text-align:right;\"> 0.2621528 </td>\n",
       "   <td style=\"text-align:left;\"> TRUE </td>\n",
       "  </tr>\n",
       "  <tr>\n",
       "   <td style=\"text-align:left;\"> median_prob_and_reference_cfsv2_djf_r2.rds </td>\n",
       "   <td style=\"text-align:right;\"> 0.2656250 </td>\n",
       "   <td style=\"text-align:right;\"> -0.0625000 </td>\n",
       "   <td style=\"text-align:right;\"> 0.0190972 </td>\n",
       "   <td style=\"text-align:right;\"> 0.0034722 </td>\n",
       "   <td style=\"text-align:right;\"> 0.2500000 </td>\n",
       "   <td style=\"text-align:right;\"> 0.2656250 </td>\n",
       "   <td style=\"text-align:left;\"> TRUE </td>\n",
       "  </tr>\n",
       "  <tr>\n",
       "   <td style=\"text-align:left;\"> median_prob_and_reference_cfsv2_djf_r3.rds </td>\n",
       "   <td style=\"text-align:right;\"> 0.2361111 </td>\n",
       "   <td style=\"text-align:right;\"> 0.0555556 </td>\n",
       "   <td style=\"text-align:right;\"> 0.0038360 </td>\n",
       "   <td style=\"text-align:right;\"> 0.0177249 </td>\n",
       "   <td style=\"text-align:right;\"> 0.2500000 </td>\n",
       "   <td style=\"text-align:right;\"> 0.2361111 </td>\n",
       "   <td style=\"text-align:left;\"> TRUE </td>\n",
       "  </tr>\n",
       "  <tr>\n",
       "   <td style=\"text-align:left;\"> median_prob_and_reference_seas5_djf_r1.rds </td>\n",
       "   <td style=\"text-align:right;\"> 0.2656250 </td>\n",
       "   <td style=\"text-align:right;\"> -0.0633205 </td>\n",
       "   <td style=\"text-align:right;\"> 0.0214646 </td>\n",
       "   <td style=\"text-align:right;\"> 0.0056467 </td>\n",
       "   <td style=\"text-align:right;\"> 0.2498071 </td>\n",
       "   <td style=\"text-align:right;\"> 0.2656250 </td>\n",
       "   <td style=\"text-align:left;\"> TRUE </td>\n",
       "  </tr>\n",
       "  <tr>\n",
       "   <td style=\"text-align:left;\"> median_prob_and_reference_seas5_djf_r2.rds </td>\n",
       "   <td style=\"text-align:right;\"> 0.2239583 </td>\n",
       "   <td style=\"text-align:right;\"> 0.1041667 </td>\n",
       "   <td style=\"text-align:right;\"> 0.0108631 </td>\n",
       "   <td style=\"text-align:right;\"> 0.0369048 </td>\n",
       "   <td style=\"text-align:right;\"> 0.2500000 </td>\n",
       "   <td style=\"text-align:right;\"> 0.2239583 </td>\n",
       "   <td style=\"text-align:left;\"> TRUE </td>\n",
       "  </tr>\n",
       "  <tr>\n",
       "   <td style=\"text-align:left;\"> median_prob_and_reference_seas5_djf_r3.rds </td>\n",
       "   <td style=\"text-align:right;\"> 0.2239583 </td>\n",
       "   <td style=\"text-align:right;\"> 0.1041667 </td>\n",
       "   <td style=\"text-align:right;\"> 0.0025454 </td>\n",
       "   <td style=\"text-align:right;\"> 0.0285871 </td>\n",
       "   <td style=\"text-align:right;\"> 0.2500000 </td>\n",
       "   <td style=\"text-align:right;\"> 0.2239583 </td>\n",
       "   <td style=\"text-align:left;\"> TRUE </td>\n",
       "  </tr>\n",
       "</tbody>\n",
       "</table>"
      ]
     },
     "metadata": {},
     "output_type": "display_data"
    }
   ],
   "source": [
    "rsult_am_bs %>%\n",
    "  kable(\"html\", caption =  \"Table of Brier Score Results  (Above Median)\") %>%\n",
    "  kable_styling(bootstrap_options = c(\"striped\", \"hover\"), full_width = FALSE) "
   ]
  }
 ],
 "metadata": {
  "kernelspec": {
   "display_name": "R",
   "language": "R",
   "name": "ir"
  },
  "language_info": {
   "codemirror_mode": "r",
   "file_extension": ".r",
   "mimetype": "text/x-r-source",
   "name": "R",
   "pygments_lexer": "r",
   "version": "4.3.1"
  }
 },
 "nbformat": 4,
 "nbformat_minor": 4
}
