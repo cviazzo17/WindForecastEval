{
 "cells": [
  {
   "cell_type": "code",
   "execution_count": 1,
   "metadata": {
    "vscode": {
     "languageId": "r"
    }
   },
   "outputs": [
    {
     "name": "stderr",
     "output_type": "stream",
     "text": [
      "Loading required package: fields\n",
      "\n",
      "Loading required package: spam\n",
      "\n",
      "Spam version 2.11-1 (2025-01-20) is loaded.\n",
      "Type 'help( Spam)' or 'demo( spam)' for a short introduction \n",
      "and overview of this package.\n",
      "Help for individual functions is also obtained by adding the\n",
      "suffix '.spam' to the function name, e.g. 'help( chol.spam)'.\n",
      "\n",
      "\n",
      "Attaching package: ‘spam’\n",
      "\n",
      "\n",
      "The following objects are masked from ‘package:base’:\n",
      "\n",
      "    backsolve, forwardsolve\n",
      "\n",
      "\n",
      "Loading required package: viridisLite\n",
      "\n",
      "\n",
      "Try help(fields) to get started.\n",
      "\n",
      "Loading required package: boot\n",
      "\n",
      "Loading required package: CircStats\n",
      "\n",
      "Loading required package: MASS\n",
      "\n",
      "Loading required package: dtw\n",
      "\n",
      "Loading required package: proxy\n",
      "\n",
      "\n",
      "Attaching package: ‘proxy’\n",
      "\n",
      "\n",
      "The following object is masked from ‘package:spam’:\n",
      "\n",
      "    as.matrix\n",
      "\n",
      "\n",
      "The following objects are masked from ‘package:stats’:\n",
      "\n",
      "    as.dist, dist\n",
      "\n",
      "\n",
      "The following object is masked from ‘package:base’:\n",
      "\n",
      "    as.matrix\n",
      "\n",
      "\n",
      "Loaded dtw v1.23-1. See ?dtw for help, citation(\"dtw\") for use in publication.\n",
      "\n",
      "\n"
     ]
    },
    {
     "data": {
      "text/html": [
       "'/home/carla/Documents/keep_trying/WindForecastEval'"
      ],
      "text/latex": [
       "'/home/carla/Documents/keep\\_trying/WindForecastEval'"
      ],
      "text/markdown": [
       "'/home/carla/Documents/keep_trying/WindForecastEval'"
      ],
      "text/plain": [
       "[1] \"/home/carla/Documents/keep_trying/WindForecastEval\""
      ]
     },
     "metadata": {},
     "output_type": "display_data"
    }
   ],
   "source": [
    "library(verification)\n",
    "library(kableExtra)\n",
    "\n",
    "setwd('../../../')\n",
    "getwd()"
   ]
  },
  {
   "cell_type": "code",
   "execution_count": 2,
   "metadata": {
    "vscode": {
     "languageId": "r"
    }
   },
   "outputs": [
    {
     "name": "stdout",
     "output_type": "stream",
     "text": [
      " [1] \"median_prob_and_reference_cfsv2_djf_r1.rds\"  \n",
      " [2] \"median_prob_and_reference_cfsv2_djf_r2.rds\"  \n",
      " [3] \"median_prob_and_reference_cfsv2_djf_r3.rds\"  \n",
      " [4] \"median_prob_and_reference_seas5_djf_r1.rds\"  \n",
      " [5] \"median_prob_and_reference_seas5_djf_r2.rds\"  \n",
      " [6] \"median_prob_and_reference_seas5_djf_r3.rds\"  \n",
      " [7] \"terciles_prob_and_reference_cfsv2_djf_r1.rds\"\n",
      " [8] \"terciles_prob_and_reference_cfsv2_djf_r2.rds\"\n",
      " [9] \"terciles_prob_and_reference_cfsv2_djf_r3.rds\"\n",
      "[10] \"terciles_prob_and_reference_seas5_djf_r1.rds\"\n",
      "[11] \"terciles_prob_and_reference_seas5_djf_r2.rds\"\n",
      "[12] \"terciles_prob_and_reference_seas5_djf_r3.rds\"\n"
     ]
    }
   ],
   "source": [
    "path_in = normalizePath(paste0(getwd(), '/ipynb/probabilistic_forecasts/bs/rds'))\n",
    "\n",
    "names_data <- list.files(path = path_in,\n",
    "                         pattern = '^terciles.*\\\\.rds$',\n",
    "                         full.names = T)\n",
    "\n",
    "list_data <- lapply(names_data, readRDS)\n",
    "\n",
    "names(list_data) <- list.files(path = path_in,\n",
    "                               pattern = '^terciles.*\\\\.rds$',\n",
    "                               full.names = F)"
   ]
  },
  {
   "cell_type": "code",
   "execution_count": 12,
   "metadata": {
    "vscode": {
     "languageId": "r"
    }
   },
   "outputs": [],
   "source": [
    "data_process = function(prob, categoria, tercile){\n",
    "  probabilidad = as.vector(prob[tercile,,])\n",
    "  categoria = as.vector(categoria)\n",
    "  cat_total = numeric(length(categoria))\n",
    "  cat_total[categoria==tercile] = 1\n",
    "  result = data.frame(pred = probabilidad, obs =  cat_total)\n",
    "  colnames(result) = c('pred', 'obs')\n",
    "  \n",
    "  \n",
    "  return(result)\n",
    "}\n",
    "\n",
    "\n",
    "bs.result <- function(list_data, tercile, thresh = seq(0,1,0.25)){\n",
    "  data_tercile1 = list()\n",
    "  j <- 0\n",
    "  names <- names(list_data)\n",
    "  \n",
    "  # Roc.area result\n",
    "  bs_tercile1 <- list()\n",
    "  \n",
    "  for (i in list_data){\n",
    "    j <- j + 1\n",
    "    \n",
    "    partial <- data_process(prob = i$prob, categoria = i$obs, tercile = tercile)\n",
    "    \n",
    "    data_tercile1[[names[j]]] <- partial\n",
    "    \n",
    "    bs_tercile1[[names[j]]] <- brier(obs = partial$obs, \n",
    "                                     pred = partial$pred,\n",
    "                                     bins = T,\n",
    "                                     thresholds = thresh)\n",
    "  }\n",
    "  \n",
    "  result_bs_tercile1 <- data.frame(bs =  sapply(bs_tercile1, `[[`, 'bs'),\n",
    "                                   ss =  sapply(bs_tercile1, `[[`, 'ss'),\n",
    "                                   bs.reliability\t= sapply(bs_tercile1, `[[`, 'bs.reliability'),\n",
    "                                   bs.resolution = sapply(bs_tercile1, `[[`, 'bs.resol'),\n",
    "                                   bs.uncert = sapply(bs_tercile1, `[[`, 'bs.uncert'),\n",
    "                                   check = sapply(bs_tercile1, `[[`, 'check'),\n",
    "                                   bins = sapply(bs_tercile1, `[[`, 'bins'))\n",
    "  \n",
    "  return(result_bs_tercile1)\n",
    "}\n",
    "\n",
    "rsult_t1_bs <- bs.result(list_data = list_data, tercile = 1)\n",
    "rsult_t2_bs <- bs.result(list_data = list_data, tercile = 2)\n",
    "rsult_t3_bs <- bs.result(list_data = list_data, tercile = 3)\n"
   ]
  },
  {
   "cell_type": "code",
   "execution_count": 13,
   "metadata": {
    "vscode": {
     "languageId": "r"
    }
   },
   "outputs": [
    {
     "data": {
      "text/plain": [
       "<table class=\"table table-striped table-hover\" style=\"width: auto !important; margin-left: auto; margin-right: auto;\">\n",
       "<caption>Tabla de Resultados Brier Score (Tercil Inferior)</caption>\n",
       " <thead>\n",
       "  <tr>\n",
       "   <th style=\"text-align:left;\">   </th>\n",
       "   <th style=\"text-align:right;\"> bs </th>\n",
       "   <th style=\"text-align:right;\"> ss </th>\n",
       "   <th style=\"text-align:right;\"> bs.reliability </th>\n",
       "   <th style=\"text-align:right;\"> bs.resolution </th>\n",
       "   <th style=\"text-align:right;\"> bs.uncert </th>\n",
       "   <th style=\"text-align:right;\"> check </th>\n",
       "   <th style=\"text-align:left;\"> bins </th>\n",
       "  </tr>\n",
       " </thead>\n",
       "<tbody>\n",
       "  <tr>\n",
       "   <td style=\"text-align:left;\"> terciles_prob_and_reference_cfsv2_djf_r1.rds </td>\n",
       "   <td style=\"text-align:right;\"> 0.1944444 </td>\n",
       "   <td style=\"text-align:right;\"> 0.1421277 </td>\n",
       "   <td style=\"text-align:right;\"> 0.0032768 </td>\n",
       "   <td style=\"text-align:right;\"> 0.0354913 </td>\n",
       "   <td style=\"text-align:right;\"> 0.2266590 </td>\n",
       "   <td style=\"text-align:right;\"> 0.1944444 </td>\n",
       "   <td style=\"text-align:left;\"> TRUE </td>\n",
       "  </tr>\n",
       "  <tr>\n",
       "   <td style=\"text-align:left;\"> terciles_prob_and_reference_cfsv2_djf_r2.rds </td>\n",
       "   <td style=\"text-align:right;\"> 0.2786458 </td>\n",
       "   <td style=\"text-align:right;\"> -0.2539062 </td>\n",
       "   <td style=\"text-align:right;\"> 0.0683284 </td>\n",
       "   <td style=\"text-align:right;\"> 0.0119048 </td>\n",
       "   <td style=\"text-align:right;\"> 0.2222222 </td>\n",
       "   <td style=\"text-align:right;\"> 0.2786458 </td>\n",
       "   <td style=\"text-align:left;\"> TRUE </td>\n",
       "  </tr>\n",
       "  <tr>\n",
       "   <td style=\"text-align:left;\"> terciles_prob_and_reference_cfsv2_djf_r3.rds </td>\n",
       "   <td style=\"text-align:right;\"> 0.2222222 </td>\n",
       "   <td style=\"text-align:right;\"> 0.0367893 </td>\n",
       "   <td style=\"text-align:right;\"> 0.0155271 </td>\n",
       "   <td style=\"text-align:right;\"> 0.0240147 </td>\n",
       "   <td style=\"text-align:right;\"> 0.2307099 </td>\n",
       "   <td style=\"text-align:right;\"> 0.2222222 </td>\n",
       "   <td style=\"text-align:left;\"> TRUE </td>\n",
       "  </tr>\n",
       "  <tr>\n",
       "   <td style=\"text-align:left;\"> terciles_prob_and_reference_seas5_djf_r1.rds </td>\n",
       "   <td style=\"text-align:right;\"> 0.2743056 </td>\n",
       "   <td style=\"text-align:right;\"> -0.2102128 </td>\n",
       "   <td style=\"text-align:right;\"> 0.0528701 </td>\n",
       "   <td style=\"text-align:right;\"> 0.0052235 </td>\n",
       "   <td style=\"text-align:right;\"> 0.2266590 </td>\n",
       "   <td style=\"text-align:right;\"> 0.2743056 </td>\n",
       "   <td style=\"text-align:left;\"> TRUE </td>\n",
       "  </tr>\n",
       "  <tr>\n",
       "   <td style=\"text-align:left;\"> terciles_prob_and_reference_seas5_djf_r2.rds </td>\n",
       "   <td style=\"text-align:right;\"> 0.2447917 </td>\n",
       "   <td style=\"text-align:right;\"> -0.1015625 </td>\n",
       "   <td style=\"text-align:right;\"> 0.0291484 </td>\n",
       "   <td style=\"text-align:right;\"> 0.0065789 </td>\n",
       "   <td style=\"text-align:right;\"> 0.2222222 </td>\n",
       "   <td style=\"text-align:right;\"> 0.2447917 </td>\n",
       "   <td style=\"text-align:left;\"> TRUE </td>\n",
       "  </tr>\n",
       "  <tr>\n",
       "   <td style=\"text-align:left;\"> terciles_prob_and_reference_seas5_djf_r3.rds </td>\n",
       "   <td style=\"text-align:right;\"> 0.2204861 </td>\n",
       "   <td style=\"text-align:right;\"> 0.0443144 </td>\n",
       "   <td style=\"text-align:right;\"> 0.0166028 </td>\n",
       "   <td style=\"text-align:right;\"> 0.0268266 </td>\n",
       "   <td style=\"text-align:right;\"> 0.2307099 </td>\n",
       "   <td style=\"text-align:right;\"> 0.2204861 </td>\n",
       "   <td style=\"text-align:left;\"> TRUE </td>\n",
       "  </tr>\n",
       "</tbody>\n",
       "</table>"
      ]
     },
     "metadata": {},
     "output_type": "display_data"
    }
   ],
   "source": [
    "rsult_t1_bs %>%\n",
    "  kable(\"html\", caption =  \"Table of Brier Score Results (Below Normal/Lower Tercile)\") %>%\n",
    "  kable_styling(bootstrap_options = c(\"striped\", \"hover\"), full_width = FALSE) "
   ]
  },
  {
   "cell_type": "code",
   "execution_count": null,
   "metadata": {
    "vscode": {
     "languageId": "r"
    }
   },
   "outputs": [],
   "source": [
    "rsult_t2_bs %>%\n",
    "  kable(\"html\", caption =  \"Table of Brier Score Results (Normal)\") %>%\n",
    "  kable_styling(bootstrap_options = c(\"striped\", \"hover\"), full_width = FALSE) "
   ]
  },
  {
   "cell_type": "code",
   "execution_count": null,
   "metadata": {
    "vscode": {
     "languageId": "r"
    }
   },
   "outputs": [],
   "source": [
    "rsult_t3_bs %>%\n",
    "  kable(\"html\", caption =  \"Table of Brier Score Results (Above Normal/Upper Tercile)\") %>%\n",
    "  kable_styling(bootstrap_options = c(\"striped\", \"hover\"), full_width = FALSE) "
   ]
  }
 ],
 "metadata": {
  "kernelspec": {
   "display_name": "R",
   "language": "R",
   "name": "ir"
  },
  "language_info": {
   "codemirror_mode": "r",
   "file_extension": ".r",
   "mimetype": "text/x-r-source",
   "name": "R",
   "pygments_lexer": "r",
   "version": "4.3.1"
  }
 },
 "nbformat": 4,
 "nbformat_minor": 4
}
