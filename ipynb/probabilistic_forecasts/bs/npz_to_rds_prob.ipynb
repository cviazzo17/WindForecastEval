{
 "cells": [
  {
   "cell_type": "code",
   "execution_count": 1,
   "id": "8d9fa262-d6b7-4edf-adbb-aa31410e3ae4",
   "metadata": {},
   "outputs": [
    {
     "name": "stderr",
     "output_type": "stream",
     "text": [
      "Warning message:\n",
      "“package ‘reticulate’ was built under R version 4.2.3”\n"
     ]
    },
    {
     "data": {
      "text/html": [
       "'/home/carla/Documents/keep_trying/WindForecastEval'"
      ],
      "text/latex": [
       "'/home/carla/Documents/keep\\_trying/WindForecastEval'"
      ],
      "text/markdown": [
       "'/home/carla/Documents/keep_trying/WindForecastEval'"
      ],
      "text/plain": [
       "[1] \"/home/carla/Documents/keep_trying/WindForecastEval\""
      ]
     },
     "metadata": {},
     "output_type": "display_data"
    }
   ],
   "source": [
    "library(reticulate)\n",
    "np <- import(\"numpy\")\n",
    "\n",
    "setwd('../../../')\n",
    "getwd()"
   ]
  },
  {
   "cell_type": "code",
   "execution_count": 6,
   "id": "903411a0-5514-469c-8a48-7cdeb1827e3f",
   "metadata": {},
   "outputs": [],
   "source": [
    "path_in = normalizePath(paste0(getwd(), '/outputs/probabilistic_forecasts/'))\n",
    "path_out = normalizePath(paste0(getwd(), '/ipynb/probabilistic_forecasts/bs/rds'))\n",
    "\n",
    "season = 'djf'  # djf   jja\n",
    "statistic = 'median'  # terciles  median\n",
    "regions = list('r1', 'r2', 'r3')\n",
    "models = list('cfsv2', 'seas5')\n",
    "\n",
    "for (region in regions) {\n",
    "    for (model in models) {\n",
    "        file_name_in = paste0(path_in, '/', statistic, '_prob_and_reference_', season,'_', region,'.npz')\n",
    "        data_in = np$load(file_name_in)\n",
    "        data_out = list(\n",
    "            data_in[[model]],\n",
    "            data_in[['merra2']]\n",
    "        )\n",
    "        names(data_out) = c('prob', 'obs')\n",
    "        \n",
    "        file_name_out = paste0(path_out, '/', statistic, \n",
    "                               '_prob_and_reference_', model, \n",
    "                               '_', season,'_', region,'.rds')\n",
    "        saveRDS(data_out, file = file_name_out)\n",
    "    }\n",
    "}"
   ]
  },
  {
   "cell_type": "code",
   "execution_count": 8,
   "id": "e75155dd-f45d-434b-90d3-d9f089b4b535",
   "metadata": {},
   "outputs": [
    {
     "data": {
      "text/html": [
       "<style>\n",
       ".list-inline {list-style: none; margin:0; padding: 0}\n",
       ".list-inline>li {display: inline-block}\n",
       ".list-inline>li:not(:last-child)::after {content: \"\\00b7\"; padding: 0 .5ex}\n",
       "</style>\n",
       "<ol class=list-inline><li>2</li><li>24</li><li>3</li></ol>\n"
      ],
      "text/latex": [
       "\\begin{enumerate*}\n",
       "\\item 2\n",
       "\\item 24\n",
       "\\item 3\n",
       "\\end{enumerate*}\n"
      ],
      "text/markdown": [
       "1. 2\n",
       "2. 24\n",
       "3. 3\n",
       "\n",
       "\n"
      ],
      "text/plain": [
       "[1]  2 24  3"
      ]
     },
     "metadata": {},
     "output_type": "display_data"
    }
   ],
   "source": [
    "dim(data['seas5'])"
   ]
  }
 ],
 "metadata": {
  "kernelspec": {
   "display_name": "base",
   "language": "python",
   "name": "python3"
  },
  "language_info": {
   "codemirror_mode": "r",
   "file_extension": ".r",
   "mimetype": "text/x-r-source",
   "name": "python",
   "pygments_lexer": "r",
   "version": "3.10.12"
  }
 },
 "nbformat": 4,
 "nbformat_minor": 5
}
