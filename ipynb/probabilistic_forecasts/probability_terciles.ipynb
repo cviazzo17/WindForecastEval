{
 "cells": [
  {
   "cell_type": "markdown",
   "metadata": {},
   "source": [
    "# Tercile-Based Probability Forecasts\n",
    "In this ipy notebook, the probability and observed category for tercile-based forecasts is calculated.\n",
    "\n",
    "The ipynb is structured as follows:\n",
    "1. Terciles computation using a three-year-out cross-validation approach.\n",
    "2. Computation of the probability associated to each tercile-based category.\n",
    "3. Estimation of the \"observed*\" category.\n",
    "4. Saving of the results.\n",
    "\n",
    "> Reanalysis data from MERRA2 is used for verification. "
   ]
  },
  {
   "cell_type": "code",
   "execution_count": 12,
   "metadata": {},
   "outputs": [],
   "source": [
    "import numpy as np\n",
    "import os\n",
    "import sys\n",
    "\n",
    "sys.path.append(os.path.abspath('../../py'))\n",
    "from probabilistic import terciles, cross_validation"
   ]
  },
  {
   "cell_type": "code",
   "execution_count": 18,
   "metadata": {},
   "outputs": [],
   "source": [
    "def probab_tercile(data, data_tercile):\n",
    "    \"\"\"\n",
    "    \"\"\"\n",
    "\n",
    "    n_year = data.shape[0]\n",
    "    n_point = data.shape[1]\n",
    "    n_ensamble = data.shape[2]\n",
    "\n",
    "    result = np.full((3, n_year, n_point), np.nan)\n",
    "    \n",
    "    for point in range(n_point):\n",
    "        data_point = data[:,point,:]\n",
    "        data_tercile_point = data_tercile[:,point,:]\n",
    "        result[0,:,point] = np.nansum(np.transpose(data_point) <= data_tercile_point[:,0], axis = 0)/n_ensamble\n",
    "        result[1,:,point] = np.nansum((np.transpose(data_point) > data_tercile_point[:,0]) &\n",
    "        (np.transpose(data_point) <= data_tercile_point[:,1]), axis = 0)/n_ensamble\n",
    "        result[2,:,point] = np.nansum(np.transpose(data_point) > data_tercile_point[:,1], axis = 0)/n_ensamble\n",
    "    \n",
    "    return result\n",
    "\n",
    "def tercile_obser(data, data_tercile):\n",
    "    n_year = data.shape[0]\n",
    "    n_point = data.shape[1]\n",
    "\n",
    "    result = np.full((n_year, n_point), np.nan)\n",
    "    for point in range(n_point):\n",
    "        data_point = data[:,point]\n",
    "        data_point_tercil = data_tercile[:,point,:]\n",
    "        \n",
    "        result[:,point][np.where((data_point <= data_point_tercil[:,0]))] = 1\n",
    "        result[:,point][np.where(((data_point > data_point_tercil[:,0]) & \n",
    "                                  (data_point <= data_point_tercil[:,1])))] = 2\n",
    "        result[:,point][np.where(((data_point > data_point_tercil[:,1])))] = 3\n",
    "    \n",
    "    return(result)"
   ]
  },
  {
   "cell_type": "code",
   "execution_count": null,
   "metadata": {},
   "outputs": [],
   "source": [
    "path_in = '../../data'\n",
    "path_out = '../../results'\n",
    "\n",
    "season = 'djf'  # 'djf' or 'jja'\n",
    "regions = ['r1', 'r2', 'r3']\n",
    "datasets = ['merra2', 'cfsv2', 'seas5']\n",
    "\n",
    "\n",
    "for region in regions:\n",
    "    for dataset in datasets:\n",
    "        file_name = os.path.join(\n",
    "            path_in,\n",
    "            f'timeseries_{dataset}_{season}_{region}.npz'\n",
    "        )\n",
    "\n",
    "        data_arr = np.load(file_name)['WS10M']\n",
    "        data_terciles = cross_validation(data_arr, terciles, 2)\n",
    "\n",
    "        if dataset == 'merra2':\n",
    "            cat_obser = tercile_obser(data_arr, data_terciles)\n",
    "        else:\n",
    "            data_prob = probab_tercile(data_arr, data_terciles)"
   ]
  },
  {
   "cell_type": "code",
   "execution_count": 17,
   "metadata": {},
   "outputs": [
    {
     "data": {
      "text/plain": [
       "['MERRA2', 'CFSV2', 'SEAS5']"
      ]
     },
     "execution_count": 17,
     "metadata": {},
     "output_type": "execute_result"
    }
   ],
   "source": [
    "list(map(lambda x: x.upper(), datasets))"
   ]
  }
 ],
 "metadata": {
  "kernelspec": {
   "display_name": "base",
   "language": "python",
   "name": "python3"
  },
  "language_info": {
   "codemirror_mode": {
    "name": "ipython",
    "version": 3
   },
   "file_extension": ".py",
   "mimetype": "text/x-python",
   "name": "python",
   "nbconvert_exporter": "python",
   "pygments_lexer": "ipython3",
   "version": "3.10.12"
  }
 },
 "nbformat": 4,
 "nbformat_minor": 2
}
